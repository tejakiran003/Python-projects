{
 "cells": [
  {
   "cell_type": "markdown",
   "metadata": {},
   "source": [
    "qr code genrator "
   ]
  },
  {
   "cell_type": "code",
   "execution_count": 2,
   "metadata": {},
   "outputs": [],
   "source": [
    "import qrcode\n",
    "qr=qrcode.make('HEllo World ')\n",
    "qr.save('docpy.png')\n",
    "qr.show()"
   ]
  },
  {
   "cell_type": "code",
   "execution_count": 3,
   "metadata": {},
   "outputs": [],
   "source": [
    "import qrcode\n",
    "qr=qrcode.make('Social media links')\n",
    "data=\"www.linkedin.com/in/tejakiran-kadiyam-800471252\"\n",
    "qr=qrcode.make(data)\n",
    "qr.save('linkedin.png')\n",
    "qr.show()"
   ]
  },
  {
   "cell_type": "code",
   "execution_count": 5,
   "metadata": {},
   "outputs": [],
   "source": [
    "import qrcode\n",
    "\n",
    "qr = qrcode.QRCode(version=5, box_size=5, border=3)\n",
    "\n",
    "name = input('Enter your name: ')\n",
    "age = int(input('Enter your age: '))\n",
    "email = input('Enter your email: ')\n",
    "mobile = int(input('Enter your mobile: '))\n",
    "\n",
    "data = {'Name': name, 'Age': age, 'Email': email, 'Mobile': mobile}\n",
    "data_str = str(data)  # Convert dictionary to string\n",
    "\n",
    "qr.add_data(data_str)\n",
    "qr.make(fit=True)\n",
    "img = qr.make_image()\n",
    "img.save(\"My_details.png\")  # Save image to file"
   ]
  },
  {
   "cell_type": "code",
   "execution_count": null,
   "metadata": {},
   "outputs": [],
   "source": []
  }
 ],
 "metadata": {
  "kernelspec": {
   "display_name": "Python 3",
   "language": "python",
   "name": "python3"
  },
  "language_info": {
   "codemirror_mode": {
    "name": "ipython",
    "version": 3
   },
   "file_extension": ".py",
   "mimetype": "text/x-python",
   "name": "python",
   "nbconvert_exporter": "python",
   "pygments_lexer": "ipython3",
   "version": "3.10.8"
  }
 },
 "nbformat": 4,
 "nbformat_minor": 2
}
